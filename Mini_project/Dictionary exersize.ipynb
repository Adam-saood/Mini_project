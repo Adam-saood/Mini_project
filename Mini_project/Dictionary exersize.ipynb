{
 "cells": [
  {
   "cell_type": "markdown",
   "metadata": {},
   "source": [
    "# Welcome to Dictionary"
   ]
  },
  {
   "cell_type": "code",
   "execution_count": 11,
   "metadata": {},
   "outputs": [
    {
     "name": "stdout",
     "output_type": "stream",
     "text": [
      "Welcome To Dictonary\n",
      "\n",
      "Set = set is a muttable type it's means we changable\n",
      "\n",
      " Thanks for using my dictionary\n"
     ]
    }
   ],
   "source": [
    "print(\"Welcome To Dictonary\\n\")\n",
    "Dict = {\"Awesome\": \"Wonderful\", \"Beautiful\": \"Khubsoorat\",\n",
    "        \"Set\": \"set is a muttable type it's means we changable\", \"Heaven\": \"Jannat\"}\n",
    "search = input(\"Enter a word\")\n",
    "b = search.capitalize()\n",
    "print(b , \"=\" ,Dict[search])\n",
    "print(\"\\n Thanks for using my dictionary\")"
   ]
  },
  {
   "cell_type": "code",
   "execution_count": 13,
   "metadata": {},
   "outputs": [
    {
     "name": "stdout",
     "output_type": "stream",
     "text": [
      "Welcome To Dictonary\n",
      "\n",
      "Sorry this word meaning not in dictionary\n",
      "\n",
      " Thanks for using my dictionary\n"
     ]
    }
   ],
   "source": [
    "print(\"Welcome To Dictonary\\n\")\n",
    "Dict = {\"Awesome\": \"Wonderful\", \"Beautiful\": \"Khubsoorat\",\n",
    "        \"Set\": \"set is a muttable type it's means we changable\", \"Heaven\": \"Jannat\"}\n",
    "search = input(\"Enter a word\")\n",
    "b = search.capitalize()\n",
    "if search in Dict:\n",
    "    print(b , \"=\" ,Dict[search])\n",
    "else:\n",
    "    print(search , \"Sorry this word meaning not in dictionary\")\n",
    "print(\"\\n Thanks for using my dictionary\")"
   ]
  }
 ],
 "metadata": {
  "interpreter": {
   "hash": "1871cdd8ca734579cd521add07a467ab5c5df79a5d0cdd3e036811c1a886cf5a"
  },
  "kernelspec": {
   "display_name": "Python 3.10.0 64-bit",
   "language": "python",
   "name": "python3"
  },
  "language_info": {
   "codemirror_mode": {
    "name": "ipython",
    "version": 3
   },
   "file_extension": ".py",
   "mimetype": "text/x-python",
   "name": "python",
   "nbconvert_exporter": "python",
   "pygments_lexer": "ipython3",
   "version": "3.10.0"
  },
  "orig_nbformat": 4
 },
 "nbformat": 4,
 "nbformat_minor": 2
}
